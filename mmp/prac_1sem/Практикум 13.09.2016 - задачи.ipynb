{
 "cells": [
  {
   "cell_type": "markdown",
   "metadata": {},
   "source": [
    "# Задачи\n"
   ]
  },
  {
   "cell_type": "markdown",
   "metadata": {},
   "source": [
    "## Дана выборка объектов – матрица X размера N на K, где K – количество признаков, N – количество объектов. Подсчитать выборочное среднее и ковариационную матрицу. Функциями mean и cov пользоваться нельзя."
   ]
  },
  {
   "cell_type": "code",
   "execution_count": 8,
   "metadata": {
    "ExecuteTime": {
     "end_time": "2016-09-13T10:27:10.226638",
     "start_time": "2016-09-13T10:27:09.613398"
    },
    "collapsed": false
   },
   "outputs": [],
   "source": [
    "import numpy as np\n",
    "%matplotlib inline\n",
    "from matplotlib import pyplot"
   ]
  },
  {
   "cell_type": "markdown",
   "metadata": {},
   "source": [
    "## Решение"
   ]
  },
  {
   "cell_type": "code",
   "execution_count": 9,
   "metadata": {
    "ExecuteTime": {
     "end_time": "2016-09-13T16:01:41.690299",
     "start_time": "2016-09-13T16:01:41.617469"
    },
    "collapsed": false
   },
   "outputs": [],
   "source": [
    "X = np.random.rand(100, 5)"
   ]
  },
  {
   "cell_type": "code",
   "execution_count": 10,
   "metadata": {
    "ExecuteTime": {
     "end_time": "2016-09-13T16:01:42.044773",
     "start_time": "2016-09-13T16:01:42.033915"
    },
    "collapsed": false
   },
   "outputs": [],
   "source": [
    "N = X.shape[0]\n",
    "mean = np.sum(X, 0) / N"
   ]
  },
  {
   "cell_type": "code",
   "execution_count": 11,
   "metadata": {
    "ExecuteTime": {
     "end_time": "2016-09-13T16:02:42.285052",
     "start_time": "2016-09-13T16:02:42.276670"
    },
    "collapsed": false,
    "scrolled": true
   },
   "outputs": [
    {
     "name": "stdout",
     "output_type": "stream",
     "text": [
      "[ 0.55470607  0.51110921  0.49041765  0.52025218  0.5001176 ]\n"
     ]
    }
   ],
   "source": [
    "Y = X - mean\n",
    "cov = Y.T.dot(Y) / (N-1)\n",
    "print(mean)"
   ]
  },
  {
   "cell_type": "code",
   "execution_count": 12,
   "metadata": {
    "ExecuteTime": {
     "end_time": "2016-09-13T16:01:59.604266",
     "start_time": "2016-09-13T16:01:59.584114"
    },
    "collapsed": false
   },
   "outputs": [
    {
     "data": {
      "text/plain": [
       "array([[ 0.09336327,  0.00522665, -0.00898272, -0.00648062,  0.00848915],\n",
       "       [ 0.00522665,  0.07715053, -0.0114083 ,  0.00469531,  0.00257213],\n",
       "       [-0.00898272, -0.0114083 ,  0.08432467, -0.01048626, -0.00219031],\n",
       "       [-0.00648062,  0.00469531, -0.01048626,  0.0726398 ,  0.00693264],\n",
       "       [ 0.00848915,  0.00257213, -0.00219031,  0.00693264,  0.07998908]])"
      ]
     },
     "execution_count": 12,
     "metadata": {},
     "output_type": "execute_result"
    }
   ],
   "source": [
    "cov"
   ]
  },
  {
   "cell_type": "markdown",
   "metadata": {},
   "source": [
    "## Вычислить площадь фигуры (сектор круга) методом Монте-Карло. Построить график зависимости результата от количества точек."
   ]
  },
  {
   "cell_type": "code",
   "execution_count": 13,
   "metadata": {
    "collapsed": false
   },
   "outputs": [
    {
     "name": "stdout",
     "output_type": "stream",
     "text": [
      "[[ 0.18850035  0.39420738]\n",
      " [ 0.13901668  0.75109863]\n",
      " [ 0.98712529  0.78791055]\n",
      " ..., \n",
      " [ 0.93917661  0.71159524]\n",
      " [ 0.89647399  0.75383786]\n",
      " [ 0.72836585  0.24279151]]\n",
      "[ True  True False ..., False False  True]\n"
     ]
    }
   ],
   "source": [
    "X = np.random.rand(10000, 2)\n",
    "inside = np.sum(X**2, 1) < 1\n",
    "print(X)\n",
    "print(inside)"
   ]
  },
  {
   "cell_type": "code",
   "execution_count": 15,
   "metadata": {
    "collapsed": false
   },
   "outputs": [
    {
     "data": {
      "text/plain": [
       "[<matplotlib.lines.Line2D at 0x7f1c96011320>]"
      ]
     },
     "execution_count": 15,
     "metadata": {},
     "output_type": "execute_result"
    },
    {
     "data": {
      "image/png": "[encoded data removed]",
      "text/plain": [
       "<matplotlib.figure.Figure at 0x7f1c960b86a0>"
      ]
     },
     "metadata": {},
     "output_type": "display_data"
    }
   ],
   "source": [
    "pyplot.plot(np.cumsum(inside) / np.arange(1, 10001))"
   ]
  },
  {
   "cell_type": "code",
   "execution_count": 17,
   "metadata": {
    "ExecuteTime": {
     "end_time": "2016-09-13T16:07:12.829405",
     "start_time": "2016-09-13T16:07:12.807351"
    },
    "collapsed": false
   },
   "outputs": [
    {
     "data": {
      "text/plain": [
       "0.7853981633974483"
      ]
     },
     "execution_count": 17,
     "metadata": {},
     "output_type": "execute_result"
    }
   ],
   "source": [
    "np.pi / 4"
   ]
  },
  {
   "cell_type": "markdown",
   "metadata": {},
   "source": [
    "Дан вектор x и квадратная матрица A. Вычислить вектор значений $y_j = argmin_i (x_i + A_{ij})$"
   ]
  },
  {
   "cell_type": "code",
   "execution_count": 20,
   "metadata": {
    "ExecuteTime": {
     "end_time": "2016-09-13T16:08:39.903425",
     "start_time": "2016-09-13T16:08:39.894818"
    },
    "collapsed": false
   },
   "outputs": [],
   "source": [
    "A = np.random.rand(10, 5)\n",
    "x = np.random.rand(10)"
   ]
  },
  {
   "cell_type": "code",
   "execution_count": 21,
   "metadata": {
    "ExecuteTime": {
     "end_time": "2016-09-13T16:08:41.164426",
     "start_time": "2016-09-13T16:08:41.156926"
    },
    "collapsed": false
   },
   "outputs": [
    {
     "data": {
      "text/plain": [
       "array([4, 0, 0, 2, 8])"
      ]
     },
     "execution_count": 21,
     "metadata": {},
     "output_type": "execute_result"
    }
   ],
   "source": [
    "np.argmin(A + x[:, np.newaxis], axis=0)"
   ]
  },
  {
   "cell_type": "code",
   "execution_count": 22,
   "metadata": {
    "ExecuteTime": {
     "end_time": "2016-09-13T16:08:42.864235",
     "start_time": "2016-09-13T16:08:42.853107"
    },
    "collapsed": false
   },
   "outputs": [
    {
     "data": {
      "text/plain": [
       "array([[ 0.35272128,  0.55524263,  0.29686403,  0.43731844,  0.73765916],\n",
       "       [ 0.22473317,  0.57706821,  0.50113574,  0.64661798,  0.32004465],\n",
       "       [ 0.26677723,  0.97024429,  0.23544946,  0.08514762,  0.58147878],\n",
       "       [ 0.64455809,  0.28551116,  0.77333456,  0.25846996,  0.44773616],\n",
       "       [ 0.21487419,  0.56741371,  0.41714973,  0.20338029,  0.77147113],\n",
       "       [ 0.91552819,  0.81260687,  0.65617465,  0.19266581,  0.97972626],\n",
       "       [ 0.77847854,  0.30275478,  0.73387102,  0.13108613,  0.61177301],\n",
       "       [ 0.42441556,  0.47024937,  0.75202352,  0.33185946,  0.03560387],\n",
       "       [ 0.36556387,  0.69083001,  0.67429532,  0.77913978,  0.06995201],\n",
       "       [ 0.90060211,  0.39988406,  0.06201796,  0.98509605,  0.45910497]])"
      ]
     },
     "execution_count": 22,
     "metadata": {},
     "output_type": "execute_result"
    }
   ],
   "source": [
    "A"
   ]
  },
  {
   "cell_type": "code",
   "execution_count": 24,
   "metadata": {
    "ExecuteTime": {
     "end_time": "2016-09-13T16:09:24.906377",
     "start_time": "2016-09-13T16:09:24.895510"
    },
    "collapsed": false
   },
   "outputs": [
    {
     "data": {
      "text/plain": [
       "array([ 0.10888704,  0.665628  ,  0.31540062,  0.41263917,  0.21268007,\n",
       "        0.93864245,  0.97134302,  0.66923083,  0.37993375,  0.34577009])"
      ]
     },
     "execution_count": 24,
     "metadata": {},
     "output_type": "execute_result"
    }
   ],
   "source": [
    "x"
   ]
  },
  {
   "cell_type": "code",
   "execution_count": 25,
   "metadata": {
    "ExecuteTime": {
     "end_time": "2016-09-13T16:10:21.661951",
     "start_time": "2016-09-13T16:10:21.646331"
    },
    "collapsed": false
   },
   "outputs": [
    {
     "data": {
      "text/plain": [
       "array([[ 0.10888704],\n",
       "       [ 0.665628  ],\n",
       "       [ 0.31540062],\n",
       "       [ 0.41263917],\n",
       "       [ 0.21268007],\n",
       "       [ 0.93864245],\n",
       "       [ 0.97134302],\n",
       "       [ 0.66923083],\n",
       "       [ 0.37993375],\n",
       "       [ 0.34577009]])"
      ]
     },
     "execution_count": 25,
     "metadata": {},
     "output_type": "execute_result"
    }
   ],
   "source": [
    "x[:, np.newaxis]"
   ]
  },
  {
   "cell_type": "markdown",
   "metadata": {},
   "source": [
    "Оставить в двух векторах а, b, содержащих одинаковое число элементов, только те\n",
    "элементы, которые соответствуют позициям ненулевых элементов в обоих векторах. Для a\n",
    "= [NaN 1 2 0 0 Inf 0]; b = [ 1 0 3 4 0 0 NaN]; ответ a = [NaN 2]; b = [1 3]"
   ]
  },
  {
   "cell_type": "code",
   "execution_count": 98,
   "metadata": {
    "collapsed": false
   },
   "outputs": [],
   "source": [
    "a = np.array([np.nan, 1, 2, 0, 0, np.inf, 0])\n",
    "b = np.array([1, 0, 3, 4, 0, 0, np.nan])"
   ]
  },
  {
   "cell_type": "code",
   "execution_count": 99,
   "metadata": {
    "collapsed": false
   },
   "outputs": [],
   "source": [
    "idx = np.any(np.vstack((a, b)) == 0, axis=0)\n",
    "a = a[np.logical_not(idx)]\n",
    "b = b[np.logical_not(idx)]"
   ]
  },
  {
   "cell_type": "code",
   "execution_count": 100,
   "metadata": {
    "collapsed": false
   },
   "outputs": [
    {
     "name": "stdout",
     "output_type": "stream",
     "text": [
      "[ nan   2.]\n",
      "[ 1.  3.]\n"
     ]
    }
   ],
   "source": [
    "print(a)\n",
    "print(b)"
   ]
  },
  {
   "cell_type": "markdown",
   "metadata": {},
   "source": [
    "Заполнить в векторе-строке x все нулевые значения предыдущими ненулевыми\n",
    "значениями. Для x = [7 0 0 1 0 0 0 3 0] должен получиться ответ x = [7 7 7 1 1 1 1 3 3]."
   ]
  },
  {
   "cell_type": "code",
   "execution_count": 113,
   "metadata": {
    "collapsed": false
   },
   "outputs": [],
   "source": [
    "x = np.array([7, 0, 0, 1, 0, 0, 0, 3, 0])"
   ]
  },
  {
   "cell_type": "code",
   "execution_count": 120,
   "metadata": {
    "collapsed": false
   },
   "outputs": [],
   "source": [
    "idx = np.flatnonzero(x)\n",
    "x[idx[1:]] = np.diff(x[idx])\n",
    "x = np.cumsum(x)"
   ]
  },
  {
   "cell_type": "markdown",
   "metadata": {},
   "source": [
    "В векторе-строке x повторить все элементы N раз. Для x = [7 1 3] и N = 3 должен получиться ответ x = [7 7 7 1 1 1 3 3 3]."
   ]
  },
  {
   "cell_type": "code",
   "execution_count": 123,
   "metadata": {
    "collapsed": false
   },
   "outputs": [],
   "source": [
    "x = np.array([7, 1, 3])\n",
    "N = 3"
   ]
  },
  {
   "cell_type": "code",
   "execution_count": 131,
   "metadata": {
    "collapsed": false
   },
   "outputs": [
    {
     "data": {
      "text/plain": [
       "array([7, 7, 7, 1, 1, 1, 3, 3, 3])"
      ]
     },
     "execution_count": 131,
     "metadata": {},
     "output_type": "execute_result"
    }
   ],
   "source": [
    "y = np.repeat(x, N)\n",
    "y"
   ]
  },
  {
   "cell_type": "markdown",
   "metadata": {},
   "source": [
    "В матрице H заменить все значения, которые больше maxH на maxH, а все значения, которые меньше minH на minH."
   ]
  },
  {
   "cell_type": "code",
   "execution_count": 5,
   "metadata": {
    "ExecuteTime": {
     "end_time": "2016-09-13T10:55:26.593942",
     "start_time": "2016-09-13T10:55:26.510263"
    },
    "collapsed": false
   },
   "outputs": [],
   "source": [
    "H = np.random.rand(10, 5)\n",
    "minH = 0.2\n",
    "maxH = 0.8"
   ]
  },
  {
   "cell_type": "code",
   "execution_count": 6,
   "metadata": {
    "ExecuteTime": {
     "end_time": "2016-09-13T10:55:27.299418",
     "start_time": "2016-09-13T10:55:27.283902"
    },
    "collapsed": false
   },
   "outputs": [],
   "source": [
    "H = np.minimum(np.maximum(H, minH), maxH)"
   ]
  },
  {
   "cell_type": "markdown",
   "metadata": {},
   "source": [
    "Напишите функцию mymean, которая находит средние значения (по одному направлению) с учѐтом NaN элементов матрицы."
   ]
  },
  {
   "cell_type": "code",
   "execution_count": 7,
   "metadata": {
    "ExecuteTime": {
     "end_time": "2016-09-13T10:55:28.433123",
     "start_time": "2016-09-13T10:55:28.426893"
    },
    "collapsed": false
   },
   "outputs": [],
   "source": [
    "def mymean(X):\n",
    "    L = np.isnan(X)\n",
    "    X = X.copy()\n",
    "    X[L] = 0\n",
    "    return np.sum(X, 0) / np.sum(np.logical_not(L), 0)"
   ]
  },
  {
   "cell_type": "code",
   "execution_count": 8,
   "metadata": {
    "ExecuteTime": {
     "end_time": "2016-09-13T10:55:29.056068",
     "start_time": "2016-09-13T10:55:29.013481"
    },
    "collapsed": false
   },
   "outputs": [
    {
     "data": {
      "text/plain": [
       "array([ 0.,  1.])"
      ]
     },
     "execution_count": 8,
     "metadata": {},
     "output_type": "execute_result"
    }
   ],
   "source": [
    "mymean(np.array([[0, np.nan], [np.nan, 1]]))"
   ]
  },
  {
   "cell_type": "markdown",
   "metadata": {},
   "source": [
    "Дано множество A и множество B. Найти максимум функции sin(a+b) при a из A и b из B."
   ]
  },
  {
   "cell_type": "code",
   "execution_count": 9,
   "metadata": {
    "ExecuteTime": {
     "end_time": "2016-09-13T10:55:30.432590",
     "start_time": "2016-09-13T10:55:30.429008"
    },
    "collapsed": false
   },
   "outputs": [],
   "source": [
    "A = np.random.rand(10)\n",
    "B = np.random.rand(10)"
   ]
  },
  {
   "cell_type": "code",
   "execution_count": 10,
   "metadata": {
    "ExecuteTime": {
     "end_time": "2016-09-13T10:55:31.297770",
     "start_time": "2016-09-13T10:55:31.288108"
    },
    "collapsed": false
   },
   "outputs": [
    {
     "data": {
      "text/plain": [
       "0.99984918704699421"
      ]
     },
     "execution_count": 10,
     "metadata": {},
     "output_type": "execute_result"
    }
   ],
   "source": [
    "A_grid, B_grid = np.ix_(A, B)\n",
    "np.max(np.sin(A_grid + B_grid))"
   ]
  },
  {
   "cell_type": "code",
   "execution_count": null,
   "metadata": {
    "collapsed": false
   },
   "outputs": [],
   "source": []
  }
 ],
 "metadata": {
  "hide_input": false,
  "kernelspec": {
   "display_name": "Python 3",
   "language": "python",
   "name": "python3"
  },
  "language_info": {
   "codemirror_mode": {
    "name": "ipython",
    "version": 3
   },
   "file_extension": ".py",
   "mimetype": "text/x-python",
   "name": "python",
   "nbconvert_exporter": "python",
   "pygments_lexer": "ipython3",
   "version": "3.4.3"
  },
  "nav_menu": {},
  "toc": {
   "navigate_menu": true,
   "number_sections": true,
   "sideBar": true,
   "threshold": 6,
   "toc_cell": false,
   "toc_section_display": "block",
   "toc_window_display": false
  }
 },
 "nbformat": 4,
 "nbformat_minor": 0
}
